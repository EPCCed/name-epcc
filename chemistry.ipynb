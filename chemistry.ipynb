{
 "cells": [
  {
   "cell_type": "code",
   "execution_count": null,
   "metadata": {},
   "outputs": [],
   "source": [
    "# CHEMISTRY\n",
    "import numpy as np\n",
    "import matplotlib.pyplot as plt"
   ]
  },
  {
   "cell_type": "code",
   "execution_count": null,
   "metadata": {},
   "outputs": [],
   "source": [
    "# Threads and MPI tasks\n",
    "n_groups = 3\n",
    "\n",
    "eRelease = (1.0, 1.0/24.0, 1.0/24.0)\n",
    "eChemTot = (1.0, 18.3/24.0, 20.9/24)\n",
    "eChemLoop = (1.0, 21.8/24.0, 29.1/24.0)\n",
    "\n",
    "fig, (ax1, ax2) = plt.subplots(1,2)\n",
    "fig.set_figwidth(10.0)\n",
    "#fig.subplots_adjust(left=0.2, wspace=0.6)\n",
    "\n",
    "index = np.arange(n_groups)\n",
    "bar_width = 0.20\n",
    "opacity = 0.4\n",
    "\n",
    "rects1 = ax1.bar(index -0.5*bar_width, eRelease, bar_width,\n",
    "                alpha=opacity, color='b', label='Release')\n",
    "rects2 = ax1.bar(index + 0.5*bar_width, eChemTot, bar_width,\n",
    "                alpha=opacity, color='r', label='Chemistry')\n",
    "rects3 = ax1.bar(index + 1.5*bar_width, eChemLoop, bar_width, alpha=opacity,\n",
    "                 color='g', label = \"Loop\")\n",
    "\n",
    "ax1.set_ylim([0.0,1.3])\n",
    "ax1.set_xlabel('Threads', fontsize = 16)\n",
    "ax1.set_ylabel('Parallel Efficiency', fontsize = 16)\n",
    "ax1.set_title(' Single node', fontsize = 16, loc = \"left\")\n",
    "ax1.set_xticks(index + bar_width / 2)\n",
    "ax1.set_xticklabels(('1', '24', '48'), fontsize = 16)\n",
    "#ax1.legend(fontsize = 16)\n",
    "\n",
    "# MPI\n",
    "# The third value is a dummy which is not plotted ('w')\n",
    "\n",
    "eRelease = (1.0/24.0, 1.0/48.0, 1.0/48)\n",
    "eChemTot = (18.3/24.0, 29.5/48.0, 1.0)\n",
    "eChemLoop = (21.8/24.0, 60.7/48.0, 29.1/24.0)\n",
    "\n",
    "rects1 = ax2.bar(index -0.5*bar_width, eRelease, bar_width,\n",
    "                alpha=opacity, color=('b', 'b', 'w'), label='Release')\n",
    "rects2 = ax2.bar(index + 0.5*bar_width, eChemTot, bar_width,\n",
    "                alpha=opacity, color=('r','r','w'), label='Total')\n",
    "rects3 = ax2.bar(index +1.5*bar_width, eChemLoop, bar_width,\n",
    "                alpha=opacity, color = ('g', 'g', 'w'), label = \"Loop\")\n",
    "ax2.set_ylim([0.0,1.3])\n",
    "ax2.set_xlabel('MPI Tasks', fontsize = 16)\n",
    "ax2.set_ylabel('Parallel Efficiency', fontsize = 16)\n",
    "ax2.set_title(' Two nodes', fontsize = 16, loc = 'left')\n",
    "ax2.set_xticks(index + bar_width / 2)\n",
    "ax2.set_xticklabels(('1', '2', '4'), fontsize = 16)\n",
    "ax2.legend(fontsize = 14, loc = 'upper right')\n",
    "fig.tight_layout()\n",
    "plt.savefig(\"BenchChem.svg\")\n",
    "plt.show()"
   ]
  }
 ],
 "metadata": {
  "kernelspec": {
   "display_name": "Python 3",
   "language": "python",
   "name": "python3"
  },
  "language_info": {
   "codemirror_mode": {
    "name": "ipython",
    "version": 3
   },
   "file_extension": ".py",
   "mimetype": "text/x-python",
   "name": "python",
   "nbconvert_exporter": "python",
   "pygments_lexer": "ipython3",
   "version": "3.5.5"
  }
 },
 "nbformat": 4,
 "nbformat_minor": 2
}

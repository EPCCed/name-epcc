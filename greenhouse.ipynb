{
 "cells": [
  {
   "cell_type": "code",
   "execution_count": null,
   "metadata": {},
   "outputs": [],
   "source": [
    "# GREENHOUSE\n",
    "import numpy as np\n",
    "import matplotlib.pyplot as plt"
   ]
  },
  {
   "cell_type": "code",
   "execution_count": null,
   "metadata": {},
   "outputs": [],
   "source": [
    "# Threads and MPI tasks\n",
    "n_groups = 4\n",
    "\n",
    "eUpdate = (1.0, 2.0/2.0, 4.0/4.0, 8.0/8.0)\n",
    "eTotal =  (1.0, 1.9/2.0, 3.5/4.0, 5.9/8.0)\n",
    "\n",
    "fig, (ax1, ax2) = plt.subplots(1,2)\n",
    "fig.set_figwidth(10.0)\n",
    "#fig.subplots_adjust(left=0.2, wspace=0.6)\n",
    "\n",
    "index = np.arange(n_groups)\n",
    "bar_width = 0.20\n",
    "opacity = 0.4\n",
    "\n",
    "rects1 = ax1.bar(index, eUpdate, bar_width,\n",
    "                alpha=opacity, color = 'r', label='Particle Update')\n",
    "rects2 = ax1.bar(index + bar_width, eTotal, bar_width,\n",
    "                alpha=opacity, color = 'b', label='Total')\n",
    "\n",
    "ax1.set_ylim([0.0,1.4])\n",
    "ax1.set_xlabel('MPI tasks', fontsize = 16)\n",
    "ax1.set_ylabel('Parallel Efficiency', fontsize = 16)\n",
    "ax1.set_title(' 4.8 million', fontsize = 16, loc = \"left\")\n",
    "ax1.set_xticks(index + bar_width / 2)\n",
    "ax1.set_xticklabels(('1', '2', '4', '8'), fontsize = 16)\n",
    "#ax1.legend(fontsize = 16)\n",
    "\n",
    "# MPI\n",
    "# The third value is a dummy which is not plotted ('w')\n",
    "\n",
    "eUpdate = (1.0, 2.0/2.0, 3.9/4.0, 7.6/8.0)\n",
    "eTotal  = (1.0, 1.9/2.0, 3.7/4.0, 6.2/8.0)\n",
    "\n",
    "rects1 = ax2.bar(index, eUpdate, bar_width,\n",
    "                alpha=opacity, color = 'r', label='Particle Update')\n",
    "rects2 = ax2.bar(index + bar_width, eTotal, bar_width,\n",
    "                alpha=opacity, color = 'b', label='Total')\n",
    "ax2.set_ylim([0.0,1.4])\n",
    "ax2.set_xlabel('MPI Tasks', fontsize = 16)\n",
    "ax2.set_ylabel('Parallel Efficiency', fontsize = 16)\n",
    "ax2.set_title(' 48 million', fontsize = 16, loc = 'left')\n",
    "ax2.set_xticks(index + bar_width / 2)\n",
    "ax2.set_xticklabels(('4', '8', '16', '32'), fontsize = 16)\n",
    "ax2.legend(fontsize = 14, loc = 'upper right')\n",
    "fig.tight_layout()\n",
    "plt.savefig(\"Green.svg\")\n",
    "plt.show()"
   ]
  }
 ],
 "metadata": {
  "kernelspec": {
   "display_name": "Python 3",
   "language": "python",
   "name": "python3"
  },
  "language_info": {
   "codemirror_mode": {
    "name": "ipython",
    "version": 3
   },
   "file_extension": ".py",
   "mimetype": "text/x-python",
   "name": "python",
   "nbconvert_exporter": "python",
   "pygments_lexer": "ipython3",
   "version": "3.5.5"
  }
 },
 "nbformat": 4,
 "nbformat_minor": 2
}
